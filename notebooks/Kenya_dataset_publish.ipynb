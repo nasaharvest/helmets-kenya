{
  "nbformat": 4,
  "nbformat_minor": 0,
  "metadata": {
    "colab": {
      "provenance": []
    },
    "kernelspec": {
      "name": "python3",
      "display_name": "Python 3"
    },
    "language_info": {
      "name": "python"
    }
  },
  "cells": [
    {
      "cell_type": "markdown",
      "source": [
        "# Prepare Dataset for Publishing\n",
        "\n",
        "**Author**: Ivan Zvonkov (izvonkov@umd.edu)\n",
        "\n",
        "**Last Updated**: Apr 16, 2025\n",
        "\n",
        "**Description**\n",
        "1. Load and clean dataset\n",
        "2. Display dataset statistics\n",
        "3. Prepare dataset for publishing to Zenodo"
      ],
      "metadata": {
        "id": "pLa9RKhuSk06"
      }
    },
    {
      "cell_type": "code",
      "execution_count": null,
      "metadata": {
        "id": "lZKAyjn4ScLP"
      },
      "outputs": [],
      "source": [
        "from google.colab import drive\n",
        "from shapely.geometry import Point\n",
        "from tqdm import tqdm\n",
        "\n",
        "import pandas as pd\n",
        "import geopandas as gpd"
      ]
    },
    {
      "cell_type": "markdown",
      "source": [
        "## 1. Load and clean dataset"
      ],
      "metadata": {
        "id": "dSKQLujiyr_l"
      }
    },
    {
      "cell_type": "code",
      "source": [
        "drive.mount(\"/content/drive\")"
      ],
      "metadata": {
        "id": "oMpip7dGt7FN"
      },
      "execution_count": null,
      "outputs": []
    },
    {
      "cell_type": "code",
      "source": [
        "# Load data\n",
        "df1 = pd.read_csv(\"/content/drive/MyDrive/Helmets/Kenya_2021_batch202404.csv\")\n",
        "df2 = pd.read_csv(\"/content/drive/MyDrive/Helmets/Kenya_2021_batch202407.csv\")\n",
        "df3 = pd.read_csv(\"/content/drive/MyDrive/Helmets/Kenya_2022_batch202407.csv\")\n",
        "df4 = pd.read_csv(\"/content/drive/MyDrive/Helmets/Kenya_2021_batch202408.csv\")\n",
        "df5 = pd.read_csv(\"/content/drive/MyDrive/Helmets/Kenya_2022_batch202408.csv\")\n",
        "df6 = pd.read_csv(\"/content/drive/MyDrive/Helmets/Kenya_2021_batch202409.csv\")\n",
        "df7 = pd.read_csv(\"/content/drive/MyDrive/Helmets/Kenya_2021_batch202410.csv\")\n",
        "df8 = pd.read_csv(\"/content/drive/MyDrive/Helmets/Kenya_2021_batch202411.csv\")\n",
        "df9 = pd.read_csv(\"/content/drive/MyDrive/Helmets/Kenya_2021_batch202502.csv\")\n",
        "df10 = pd.read_csv(\"/content/drive/MyDrive/Helmets/Kenya_2021_batch202503.csv\")"
      ],
      "metadata": {
        "id": "QgWZVRzVTfwm"
      },
      "execution_count": null,
      "outputs": []
    },
    {
      "cell_type": "code",
      "source": [
        "df1[\"year\"] = \"2021\"\n",
        "df2[\"year\"] = \"2021\"\n",
        "df3[\"year\"] = \"2022\"\n",
        "df4[\"year\"] = \"2021\"\n",
        "df5[\"year\"] = \"2022\"\n",
        "df6[\"year\"] = \"2021\"\n",
        "df7[\"year\"] = \"2021\"\n",
        "df8[\"year\"] = \"2021\"\n",
        "df9[\"year\"] = \"2021\"\n",
        "df10[\"year\"] = \"2021\""
      ],
      "metadata": {
        "id": "YMuC6FeGT2PX"
      },
      "execution_count": null,
      "outputs": []
    },
    {
      "cell_type": "code",
      "source": [
        "# Correct to GADM admin zones\n",
        "gdf_gadm2 = gpd.read_file(\"https://geodata.ucdavis.edu/gadm/gadm4.1/json/gadm41_KEN_2.json\")\n",
        "\n",
        "def correct_to_gadm(df):\n",
        "    geometry = [Point(xy) for xy in zip(df[\"longitude\"], df[\"latitude\"])]\n",
        "    gdf_points = gpd.GeoDataFrame(df, geometry=geometry, crs=\"EPSG:4326\")\n",
        "    gdf_points_gadm2 = gpd.sjoin(gdf_points, gdf_gadm2, how='left', predicate=\"within\")\n",
        "\n",
        "    df[\"adm1\"] = gdf_points_gadm2[\"NAME_1\"]\n",
        "    df[\"adm2\"] = gdf_points_gadm2[\"NAME_2\"]\n",
        "\n",
        "    return df\n",
        "\n",
        "df1 = correct_to_gadm(df1)\n",
        "df2 = correct_to_gadm(df2)"
      ],
      "metadata": {
        "id": "CwnKYXrttdSV"
      },
      "execution_count": null,
      "outputs": []
    },
    {
      "cell_type": "code",
      "source": [
        "# Combine point batches\n",
        "df = pd.concat([df1, df2, df3, df4, df5, df6, df7, df8, df9, df10]).reset_index(drop=True)\n",
        "\n",
        "df[\"crop_type\"] = df[\"crop_type\"].str.replace(\"\\u200b\", \"\").str.lower()\n",
        "df[\"is_maize\"] = (df[\"crop_type\"] == \"maize\").astype(int)\n",
        "df_crops = df[df[\"is_crop\"] == 1].copy()\n",
        "df_road = df[df[\"is_crop\"] == 0].copy()\n",
        "print(f\"Total crops: {len(df_crops)}\")"
      ],
      "metadata": {
        "id": "_X2RPWmFT5MZ"
      },
      "execution_count": null,
      "outputs": []
    },
    {
      "cell_type": "code",
      "source": [
        "# Resolve duplicates\n",
        "df_crops.drop_duplicates(subset=\"capture_info\", keep='last', inplace=True)\n",
        "df_road.drop_duplicates(subset=\"capture_info\", keep='last', inplace=True)\n",
        "df_deduped = pd.concat([df_crops, df_road]).reset_index(drop=True)\n",
        "print(f\"Total crops: {len(df_crops)}\")"
      ],
      "metadata": {
        "id": "KhsEHWlLW4Bo"
      },
      "execution_count": null,
      "outputs": []
    },
    {
      "cell_type": "code",
      "source": [
        "# Remove discarded points from Final Review Round\n",
        "people_in_photo = [\n",
        "    \"2022_07_13_Nakuru_3-*-G0198444\",\n",
        "    \"2022_07_13_Nakuru_3-*-G0198447\",\n",
        "    \"2022_07_13_Nakuru_3-*-G0198459\",\n",
        "]\n",
        "\n",
        "start_condition = (df_deduped[\"capture_info\"] >=  \"2021-07-05-T1-GPAK2671\")\n",
        "end_condition = (df_deduped[\"capture_info\"] <=  \"2021-07-05-T1-GPAK2934\")\n",
        "\n",
        "tree_boundary = [\n",
        "    \"2022_07_13_Nakuru_3-*-G0182336\",\n",
        "    \"2022_07_13_Nakuru_2-G0075290\",\n",
        "    \"2022_07_13_Nakuru_2-G0075880\",\n",
        "    \"2022_07_13_Nakuru_2-G0076337\",\n",
        "    \"2021-07-11-T1-GPJK5584\",\n",
        "    \"2021-07-11-T1-GPJK5586\",\n",
        "\n",
        "# Tree boundary issue range from Chris\n",
        "] + df_deduped[start_condition & end_condition & (df_deduped[\"is_crop\"] == 1)][\"capture_info\"].tolist()\n",
        "\n",
        "on_or_near_building = [\n",
        "    \"2022_07_13_Nakuru_3-*-G0182315\",\n",
        "    \"2022_07_13_Nakuru_2-G0086524\",\n",
        "    \"2022_07_13_Nakuru_2-G0075035\",\n",
        "    \"2022_07_13_Nakuru_2-G0075251\",\n",
        "]\n",
        "\n",
        "wrong_field = [\n",
        "    \"2022_07_13_Nakuru_2-G0064095\",\n",
        "    \"2022_07_13_Nakuru_2-G0064096\",\n",
        "    \"2022_07_13_Nakuru_2-G0064097\",\n",
        "    \"2022_07_13_Nakuru_2-G0075912\",\n",
        "]\n",
        "\n",
        "outside_or_edge_of_field = [\n",
        "    \"2022_07_13_Nakuru_2-G0064636\",\n",
        "    \"2022_07_13_Nakuru_2-G0064759\",\n",
        "    \"2022_07_13_Nakuru_2-G0074874\",\n",
        "    \"2022_07_13_Nakuru_2-G0075124\",\n",
        "    \"2022_07_13_Nakuru_2-G0075427\",\n",
        "    \"2022_07_13_Nakuru_2-G0075422\",\n",
        "    \"2022_07_13_Nakuru_2-G0075418\",\n",
        "    \"2022_07_13_Nakuru_2-G0075429\",\n",
        "    \"2022_07_13_Nakuru_2-G0075868\",\n",
        "    \"2022_07_13_Nakuru_2-G0076004\",\n",
        "    \"2021-08-02-T1-GPAH3578\",\n",
        "    \"2021-08-02-T1-GPAG3424\",\n",
        "    \"2021-08-02-T1-GPAE3358\",\n",
        "    \"2021-08-02-T1-GPAL3884\",\n",
        "    \"2021-08-02-T1-GPAL3886\",\n",
        "    \"2021-08-02-T1-GPAL3892\"\n",
        "]\n",
        "\n",
        "wrong_side = [\n",
        "    \"2022_07_13_Nakuru_2-G0096544\",\n",
        "    \"2021-07-11-T1-GPJS6173\",\n",
        "    \"2021-07-11-T1-GPJQ5855\",\n",
        "    \"2021-07-11-T1-GPJK5585\",\n",
        "    \"2021-07-11-T1-GPJK5580\",\n",
        "    \"2021-07-11-T1-GPJG5481\",\n",
        "]\n",
        "\n",
        "fallow = [\n",
        "    \"2021-08-02-T1-GPAL3874\",\n",
        "    \"2021-08-02-T1-GPAF3397\"\n",
        "]"
      ],
      "metadata": {
        "id": "SDRmJHscX-AO"
      },
      "execution_count": null,
      "outputs": []
    },
    {
      "cell_type": "code",
      "source": [
        "capture_infos = people_in_photo + on_or_near_building + wrong_field + outside_or_edge_of_field + fallow + wrong_side + tree_boundary\n",
        "if (len(capture_infos) == df_deduped[\"capture_info\"].isin(capture_infos).sum() // 2):\n",
        "    print(f\"Found all capture infos to remove: {len(capture_infos)}\")"
      ],
      "metadata": {
        "id": "eMlnMpRoqWnw"
      },
      "execution_count": null,
      "outputs": []
    },
    {
      "cell_type": "code",
      "source": [
        "df_clean = df_deduped[~df_deduped[\"capture_info\"].isin(capture_infos)].copy()\n",
        "\n",
        "# Resolve asterisk issue - has to be after dedupe\n",
        "df_clean[\"capture_info\"] = df_clean[\"capture_info\"].str.replace(\"*-\", \"\")\n",
        "df_clean[\"image_url\"] = df_clean[\"image_url\"].str.replace(\"/*\", \"\")"
      ],
      "metadata": {
        "id": "N6duB0qfqZhm"
      },
      "execution_count": null,
      "outputs": []
    },
    {
      "cell_type": "markdown",
      "source": [
        "## 2. Dataset Statistics"
      ],
      "metadata": {
        "id": "HXqcg0Kfwo52"
      }
    },
    {
      "cell_type": "code",
      "source": [
        "df_crops = df_clean[df_clean['is_crop'] == 1]\n",
        "print(f\"Total crops: {len(df_crops)}\")"
      ],
      "metadata": {
        "id": "MmGjYKtl4fPu"
      },
      "execution_count": null,
      "outputs": []
    },
    {
      "cell_type": "code",
      "source": [
        "# Crop type amounts\n",
        "df_crops[\"crop_type\"].value_counts()"
      ],
      "metadata": {
        "id": "2CAlz0DG0gFV"
      },
      "execution_count": null,
      "outputs": []
    },
    {
      "cell_type": "code",
      "source": [
        "print(\"Number of counties: \", len(df_crops[\"adm1\"].unique()))"
      ],
      "metadata": {
        "id": "tBo1JDoN8l0g"
      },
      "execution_count": null,
      "outputs": []
    },
    {
      "cell_type": "code",
      "source": [
        "# Per year and admin zone\n",
        "df_crops[[\"year\", \"adm1\"]].value_counts()"
      ],
      "metadata": {
        "id": "Y-sUbYOx0m1h"
      },
      "execution_count": null,
      "outputs": []
    },
    {
      "cell_type": "markdown",
      "source": [
        "## 3. Prepare dataset for publishing"
      ],
      "metadata": {
        "id": "vlSfH0729xJ7"
      }
    },
    {
      "cell_type": "code",
      "source": [
        "!gcloud auth login"
      ],
      "metadata": {
        "id": "7F07NeaN8qut"
      },
      "execution_count": null,
      "outputs": []
    },
    {
      "cell_type": "code",
      "source": [
        "# Get images already public\n",
        "!gcloud storage ls gs://street2sat-public/KENYA_v2/** >> gcloud_storage_uris.txt"
      ],
      "metadata": {
        "id": "ISt3POcuWC27"
      },
      "execution_count": null,
      "outputs": []
    },
    {
      "cell_type": "code",
      "source": [
        "with open('/content/gcloud_storage_uris.txt') as f:\n",
        "    gs_uris = f.read().splitlines()\n",
        "len(gs_uris)"
      ],
      "metadata": {
        "id": "9Q0bNGcOW1MV"
      },
      "execution_count": null,
      "outputs": []
    },
    {
      "cell_type": "code",
      "source": [
        "df_clean[\"public_url\"] = df_clean[\"image_url\"].str.replace(\"uploaded\", \"public\")\n",
        "df_clean[\"is_public\"] = df_clean[\"public_url\"].str.replace(\"https://storage.cloud.google.com/\", \"gs://\").isin(gs_uris)\n",
        "df_clean[\"is_public\"].value_counts()"
      ],
      "metadata": {
        "id": "ZJNk67wXYAoE"
      },
      "execution_count": null,
      "outputs": []
    },
    {
      "cell_type": "code",
      "source": [
        "# Copy over images into public bucket\n",
        "df_not_public = df_clean[~df_clean[\"is_public\"]].copy()\n",
        "if len(df_not_public) == 0:\n",
        "    print(\"All images are already in public bucket\")\n",
        "else:\n",
        "    for image_url in tqdm(df_not_public[\"image_url\"].unique()):\n",
        "        src = image_url.replace(\"https://storage.cloud.google.com/\", \"gs://\")\n",
        "        dest = src.replace(\"uploaded\", \"public\")\n",
        "        !gsutil cp -n $src $dest"
      ],
      "metadata": {
        "id": "Znk9ZpSl-GqB"
      },
      "execution_count": null,
      "outputs": []
    },
    {
      "cell_type": "code",
      "source": [
        "# Current columns\n",
        "df_clean.columns"
      ],
      "metadata": {
        "id": "9Wqb_VaKCpCX"
      },
      "execution_count": null,
      "outputs": []
    },
    {
      "cell_type": "code",
      "source": [
        "df_clean.drop(columns=[\"is_public\", \"public_url\", \"gcloud_folder\"], inplace=True)"
      ],
      "metadata": {
        "id": "0OxTeC_NCtpV"
      },
      "execution_count": null,
      "outputs": []
    },
    {
      "cell_type": "code",
      "source": [
        "# Update url\n",
        "df_clean[\"image_url\"] = df_clean[\"image_url\"].str.replace(\"uploaded\", \"public\")\n",
        "df_clean[\"image_url\"].iloc[-10]"
      ],
      "metadata": {
        "id": "hEHjkLT9-Mpx"
      },
      "execution_count": null,
      "outputs": []
    },
    {
      "cell_type": "code",
      "source": [
        "df_clean[\"image_path\"] = df_clean[\"image_url\"].str.replace(\"https://storage.cloud.google.com/street2sat-public/\", \"\")\n",
        "df_clean[\"image_path\"].iloc[-10]"
      ],
      "metadata": {
        "id": "aLZo-OSaDHBI"
      },
      "execution_count": null,
      "outputs": []
    },
    {
      "cell_type": "code",
      "source": [
        "df_clean.to_csv(\"Helmets_Kenya_v1.csv\", index=False)"
      ],
      "metadata": {
        "id": "BdJuIOwDDI8c"
      },
      "execution_count": null,
      "outputs": []
    }
  ]
}